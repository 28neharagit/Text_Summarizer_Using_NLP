{
  "cells": [
    {
      "cell_type": "code",
      "execution_count": null,
      "metadata": {
        "colab": {
          "base_uri": "https://localhost:8080/"
        },
        "id": "sLpcZ2q7uJeo",
        "outputId": "b6d4b973-1c07-497c-f547-59ed91f05aec"
      },
      "outputs": [
        {
          "output_type": "stream",
          "name": "stderr",
          "text": [
            "[nltk_data] Downloading package stopwords to /root/nltk_data...\n",
            "[nltk_data]   Unzipping corpora/stopwords.zip.\n"
          ]
        },
        {
          "output_type": "execute_result",
          "data": {
            "text/plain": [
              "True"
            ]
          },
          "metadata": {},
          "execution_count": 1
        }
      ],
      "source": [
        "import nltk\n",
        "nltk.download('stopwords')"
      ]
    },
    {
      "cell_type": "code",
      "execution_count": null,
      "metadata": {
        "colab": {
          "base_uri": "https://localhost:8080/"
        },
        "id": "6iQ4-K9HuXQe",
        "outputId": "16d07adf-4601-4bbf-82b2-dba7904fb1d9"
      },
      "outputs": [
        {
          "output_type": "stream",
          "name": "stderr",
          "text": [
            "[nltk_data] Downloading package punkt to /root/nltk_data...\n",
            "[nltk_data]   Unzipping tokenizers/punkt.zip.\n"
          ]
        },
        {
          "output_type": "execute_result",
          "data": {
            "text/plain": [
              "True"
            ]
          },
          "metadata": {},
          "execution_count": 2
        }
      ],
      "source": [
        "import nltk\n",
        "nltk.download('punkt')"
      ]
    },
    {
      "cell_type": "code",
      "execution_count": null,
      "metadata": {
        "colab": {
          "base_uri": "https://localhost:8080/"
        },
        "id": "YPyLTFOSuiGt",
        "outputId": "21e3d971-15ae-4ca2-e3da-21d4aee73055"
      },
      "outputs": [
        {
          "output_type": "stream",
          "name": "stdout",
          "text": [
            "Average: 41\n",
            "Summary:  The next time we got together, a year later, we strolled through a park in\n",
            "downtown Tokyo and ended up talking about trends in Western psychology,\n",
            "specifically logotherapy, which helps people find their purpose in life. We remarked that Viktor Frankl’s logotherapy had gone out of fashion among\n",
            "practicing therapists, who favored other schools of psychology, though people\n",
            "still search for meaning in what they do and how they live. It also seems to be one\n",
            "way of explaining the extraordinary longevity of the Japanese, especially on the\n",
            "island of Okinawa, where there are 24.55 people over the age of 100 for every\n",
            "100,000 inhabitants—far more than the global average.\n"
          ]
        }
      ],
      "source": [
        "# importing libraries\n",
        "import nltk\n",
        "from nltk.corpus import stopwords\n",
        "from nltk.tokenize import word_tokenize, sent_tokenize\n",
        "\n",
        "# Input text - to summarize\n",
        "text = \"\"\"THIS BOOK FIRST came into being on a rainy night in Tokyo, when its authors sat\n",
        "down together for the first time in one of the city’s tiny bars.\n",
        "We had read each other’s work but had never met, thanks to the thousands of\n",
        "miles that separate Barcelona from the capital of Japan. Then a mutual\n",
        "acquaintance put us in touch, launching a friendship that led to this project and\n",
        "seems destined to last a lifetime.\n",
        "The next time we got together, a year later, we strolled through a park in\n",
        "downtown Tokyo and ended up talking about trends in Western psychology,\n",
        "specifically logotherapy, which helps people find their purpose in life.\n",
        "We remarked that Viktor Frankl’s logotherapy had gone out of fashion among\n",
        "practicing therapists, who favored other schools of psychology, though people\n",
        "still search for meaning in what they do and how they live. We ask ourselves\n",
        "things like:\n",
        "What is the meaning of my life?\n",
        "Is the point just to live longer, or should I seek a higher purpose?\n",
        "Why do some people know what they want and have a passion for life, while\n",
        "others languish in confusion?\n",
        "At some point in our conversation, the mysterious word ikigai came up.\n",
        "This Japanese concept, which translates roughly as “the happiness of always\n",
        "being busy,” is like logotherapy, but it goes a step beyond. It also seems to be one\n",
        "way of explaining the extraordinary longevity of the Japanese, especially on the\n",
        "island of Okinawa, where there are 24.55 people over the age of 100 for every\n",
        "100,000 inhabitants—far more than the global average.\n",
        " \"\"\"\n",
        "\n",
        "# Tokenizing the text\n",
        "stopWords = set(stopwords.words(\"english\"))\n",
        "words = word_tokenize(text)\n",
        "\n",
        "# Creating a frequency table to keep the\n",
        "# score of each word\n",
        "\n",
        "freqTable = dict()\n",
        "for word in words:\n",
        "\tword = word.lower()\n",
        "\tif word in stopWords:\n",
        "\t\tcontinue\n",
        "\tif word in freqTable:\n",
        "\t\tfreqTable[word] += 1\n",
        "\telse:\n",
        "\t\tfreqTable[word] = 1\n",
        "\n",
        "# Creating a dictionary to keep the score\n",
        "# of each sentence\n",
        "sentences = sent_tokenize(text)\n",
        "sentenceValue = dict()\n",
        "\n",
        "for sentence in sentences:\n",
        "\tfor word, freq in freqTable.items():\n",
        "\t\tif word in sentence.lower():\n",
        "\t\t\tif sentence in sentenceValue:\n",
        "\t\t\t\tsentenceValue[sentence] += freq\n",
        "\t\t\telse:\n",
        "\t\t\t\tsentenceValue[sentence] = freq\n",
        "\n",
        "\n",
        "\n",
        "sumValues = 0\n",
        "for sentence in sentenceValue:\n",
        "\tsumValues += sentenceValue[sentence]\n",
        "\n",
        "# Calculate the sum of sentence values and populate the sentenceValue dictionary\n",
        "\n",
        "sumValues = sum(sentenceValue.values())  # Calculate the sum of sentence values\n",
        "\n",
        "if len(sentenceValue) > 0:\n",
        "    average = int(sumValues / len(sentenceValue))\n",
        "else:\n",
        "    average = 0  # Handle the case where there are no non-zero values\n",
        "\n",
        "# Storing sentences into our summary.\n",
        "summary = ''\n",
        "\n",
        "for sentence in sentences:\n",
        "    if (sentence in sentenceValue) and (sentenceValue[sentence] > (1.2 * average)):\n",
        "        summary += \" \" + sentence\n",
        "\n",
        "print(\"Average:\", average)\n",
        "print(\"Summary:\", summary)\n"
      ]
    },
    {
      "cell_type": "code",
      "execution_count": null,
      "metadata": {
        "colab": {
          "base_uri": "https://localhost:8080/"
        },
        "id": "cS9EnZ2Az2o9",
        "outputId": "3c81e560-590c-4855-d1cb-4fcb6324ed6a"
      },
      "outputs": [
        {
          "output_type": "stream",
          "name": "stdout",
          "text": [
            "Enter the text to summarize:\n",
            "It is customary in Okinawa to form close bonds within local communities. A moai is an informal group of people with common interests who look out for one another. For many, serving the community becomes part of their ikigai. The moai has its origins in hard times, when farmers would get together to share best practices and help one another cope with meager harvests. Members of a moai make a set monthly contribution to the group. This payment allows them to participate in meetings, dinners, games of go and shogi (Japanese chess), or whatever hobby they have in common. The funds collected by the group are used for activities, but if there is money left over, one member (decided on a rotating basis) receives a set amount from the surplus. In this way, being part of a moai helps maintain emotional and financial stability. If a member of a moai is in financial trouble, he or she can get an advance from the group’s savings. While the details of each moai’s accounting practices vary according to the group and its economic means, the feeling of belonging and support gives the individual a sense of security and helps increase life expectancy.\n",
            "Average: 37\n",
            "Summary:  The moai has its origins in hard times, when farmers would get together to share best practices and help one another cope with meager harvests. The funds collected by the group are used for activities, but if there is money left over, one member (decided on a rotating basis) receives a set amount from the surplus. While the details of each moai’s accounting practices vary according to the group and its economic means, the feeling of belonging and support gives the individual a sense of security and helps increase life expectancy.\n"
          ]
        }
      ],
      "source": [
        "import nltk\n",
        "from nltk.corpus import stopwords\n",
        "from nltk.tokenize import word_tokenize, sent_tokenize\n",
        "\n",
        "# Get user input for the text to summarize\n",
        "text = input(\"Enter the text to summarize:\\n\")\n",
        "\n",
        "# Tokenizing the text\n",
        "stopWords = set(stopwords.words(\"english\"))\n",
        "words = word_tokenize(text)\n",
        "\n",
        "# Creating a frequency table to keep the score of each word\n",
        "freqTable = dict()\n",
        "for word in words:\n",
        "    word = word.lower()\n",
        "    if word in stopWords:\n",
        "        continue\n",
        "    if word in freqTable:\n",
        "        freqTable[word] += 1\n",
        "    else:\n",
        "        freqTable[word] = 1\n",
        "\n",
        "# Creating a dictionary to keep the score of each sentence\n",
        "sentences = sent_tokenize(text)\n",
        "sentenceValue = dict()\n",
        "\n",
        "for sentence in sentences:\n",
        "    for word, freq in freqTable.items():\n",
        "        if word in sentence.lower():\n",
        "            if sentence in sentenceValue:\n",
        "                sentenceValue[sentence] += freq\n",
        "            else:\n",
        "                sentenceValue[sentence] = freq\n",
        "\n",
        "# Calculate the sum of sentence values and populate the sentenceValue dictionary\n",
        "sumValues = sum(sentenceValue.values())  # Calculate the sum of sentence values\n",
        "\n",
        "if len(sentenceValue) > 0:\n",
        "    average = int(sumValues / len(sentenceValue))\n",
        "else:\n",
        "    average = 0  # Handle the case where there are no non-zero values\n",
        "\n",
        "# Storing sentences into our summary\n",
        "summary = ''\n",
        "\n",
        "for sentence in sentences:\n",
        "    if (sentence in sentenceValue) and (sentenceValue[sentence] > (1.2 * average)):\n",
        "        summary += \" \" + sentence\n",
        "\n",
        "print(\"Average:\", average)\n",
        "print(\"Summary:\", summary)\n"
      ]
    }
  ],
  "metadata": {
    "colab": {
      "provenance": []
    },
    "kernelspec": {
      "display_name": "Python 3",
      "name": "python3"
    },
    "language_info": {
      "name": "python"
    }
  },
  "nbformat": 4,
  "nbformat_minor": 0
}